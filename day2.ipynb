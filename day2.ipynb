{
  "nbformat": 4,
  "nbformat_minor": 0,
  "metadata": {
    "colab": {
      "provenance": [],
      "authorship_tag": "ABX9TyO6ilWSEPQyNIeTcy/0O45t",
      "include_colab_link": true
    },
    "kernelspec": {
      "name": "python3",
      "display_name": "Python 3"
    },
    "language_info": {
      "name": "python"
    }
  },
  "cells": [
    {
      "cell_type": "markdown",
      "metadata": {
        "id": "view-in-github",
        "colab_type": "text"
      },
      "source": [
        "<a href=\"https://colab.research.google.com/github/alextran2024/AIO_20-days-effort/blob/feature%2Fday2/day2.ipynb\" target=\"_parent\"><img src=\"https://colab.research.google.com/assets/colab-badge.svg\" alt=\"Open In Colab\"/></a>"
      ]
    },
    {
      "cell_type": "code",
      "execution_count": null,
      "metadata": {
        "colab": {
          "base_uri": "https://localhost:8080/"
        },
        "id": "RYcPTPQ5ltkT",
        "outputId": "6a0e8297-9a77-46ff-fa22-30e215b59157"
      },
      "outputs": [
        {
          "output_type": "stream",
          "name": "stdout",
          "text": [
            "720\n",
            "1\n",
            "Lãi suất trong 720 ngày là : 2.716393914109667\n"
          ]
        }
      ],
      "source": [
        "\"\"\"phân tích:\n",
        "1. Nhập tiền và thời gian\n",
        "2. xử lý theo hàm for i\n",
        "3. xuất kết quả\n",
        "\n",
        "Pseudo:\n",
        "input day, money (integer)\n",
        "for i in day range:\n",
        "interest += money*(1+1/i)**i\n",
        "print(interest)\n",
        "\"\"\"\n",
        "period = int(input())\n",
        "money = int(input())\n",
        "interest = 1\n",
        "for i in range(1, period):\n",
        "    interest = money*(1+1/i)**i\n",
        "print(f\"Lãi suất trong {period} ngày là : {interest}\")\n",
        "\n"
      ]
    }
  ]
}