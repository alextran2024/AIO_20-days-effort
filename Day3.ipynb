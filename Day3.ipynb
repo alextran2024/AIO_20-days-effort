{
  "nbformat": 4,
  "nbformat_minor": 0,
  "metadata": {
    "colab": {
      "provenance": [],
      "authorship_tag": "ABX9TyPe5O5ckvsxDAwdz0lDgb/k",
      "include_colab_link": true
    },
    "kernelspec": {
      "name": "python3",
      "display_name": "Python 3"
    },
    "language_info": {
      "name": "python"
    }
  },
  "cells": [
    {
      "cell_type": "markdown",
      "metadata": {
        "id": "view-in-github",
        "colab_type": "text"
      },
      "source": [
        "<a href=\"https://colab.research.google.com/github/alextran2024/AIO_20-days-effort/blob/feature%2Fday3/Day3.ipynb\" target=\"_parent\"><img src=\"https://colab.research.google.com/assets/colab-badge.svg\" alt=\"Open In Colab\"/></a>"
      ]
    },
    {
      "cell_type": "code",
      "execution_count": 19,
      "metadata": {
        "colab": {
          "base_uri": "https://localhost:8080/"
        },
        "id": "fFESQPZbrIdG",
        "outputId": "0dd63a29-b741-43fd-d539-aa99476a6928"
      },
      "outputs": [
        {
          "output_type": "stream",
          "name": "stdout",
          "text": [
            "25\n",
            "Giá trị căn gần đúng của 25 là: 4.999971593960538\n"
          ]
        }
      ],
      "source": [
        "\"\"\"Phân tích đề:\n",
        "tìm căn bậc 2 của a\n",
        "nhập giá trị a tại n = 0, a > 0\n",
        "xây dựng hàm f(x) = x^2 - a\n",
        "cho 1 giá trị x0 = a/2 tính giá trị f(xn)/f'(xn) cho tới khi < epsilon ε = 0.001\n",
        "print x tại n\"\"\"\n",
        "\n",
        "a = int(input())\n",
        "if a < 0:\n",
        "    print(\"a phải có giá trị dương\")\n",
        "    exit()\n",
        "if a == 0:\n",
        "    print(\"căn bậc 2 của a = 0\")\n",
        "if a >0:\n",
        "    x = a/2\n",
        "    while abs(x**2 - a) > 0.001:\n",
        "        x = abs((x**2 - a)/(2*x))\n",
        "    print (\"Giá trị căn gần đúng của\", a, \"là:\", x)\n"
      ]
    }
  ]
}